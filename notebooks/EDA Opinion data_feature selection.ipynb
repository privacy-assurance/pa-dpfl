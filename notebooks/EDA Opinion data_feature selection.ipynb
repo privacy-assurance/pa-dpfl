{
 "cells": [
  {
   "cell_type": "code",
   "execution_count": 6,
   "metadata": {},
   "outputs": [],
   "source": [
    "import pandas as pd\n",
    "import numpy as np\n",
    "from sklearn.feature_selection import SelectKBest\n",
    "import seaborn as sns\n",
    "from sklearn.feature_selection import chi2\n",
    "import matplotlib.pyplot as plt\n",
    "from sklearn.metrics import accuracy_score\n",
    "data = pd.read_csv(\"/home/mirwais/Desktop/PhD Docs/Papers/Dataset/Dataset_AsiaF/Survey of The Afghan Peoples.csv\")"
   ]
  },
  {
   "cell_type": "code",
   "execution_count": 10,
   "metadata": {},
   "outputs": [],
   "source": [
    "X = data.iloc[:,0:270]  #independent columns\n",
    "y = data.iloc[:, 24:25]  \n"
   ]
  },
  {
   "cell_type": "code",
   "execution_count": 7,
   "metadata": {},
   "outputs": [],
   "source": [
    "import pandas as pd\n",
    "import numpy as np\n",
    "import matplotlib.pyplot as plt\n",
    "import seaborn as sns\n",
    "from sklearn import preprocessing\n",
    "from sklearn.preprocessing import MinMaxScaler\n",
    "from sklearn.model_selection import train_test_split\n",
    "from sklearn.neighbors import KNeighborsClassifier\n",
    "from sklearn.linear_model import LogisticRegression\n",
    "from sklearn.tree import DecisionTreeClassifier\n",
    "from sklearn.ensemble import RandomForestClassifier,GradientBoostingClassifier,AdaBoostClassifier,ExtraTreesClassifier\n",
    "from sklearn.naive_bayes import GaussianNB\n",
    "from sklearn import svm\n",
    "from sklearn import metrics\n",
    "from sklearn.metrics import classification_report,f1_score,recall_score ,precision_score,roc_curve\n",
    "\n"
   ]
  },
  {
   "cell_type": "code",
   "execution_count": 8,
   "metadata": {},
   "outputs": [],
   "source": [
    "le = preprocessing.LabelEncoder()"
   ]
  },
  {
   "cell_type": "code",
   "execution_count": 9,
   "metadata": {},
   "outputs": [],
   "source": [
    "data['m7']=le.fit_transform(data['m7'])\n",
    "data['m9']=le.fit_transform(data['m9'])\n",
    "data['m18']=le.fit_transform(data['m18'])\n",
    "data['q1']=le.fit_transform(data['q1'])\n",
    "data['q2a']=le.fit_transform(data['q2a'])\n",
    "\n",
    "data['m4']=le.fit_transform(data['m4'])\n",
    "data['m5']=le.fit_transform(data['m5'])\n",
    "data['m6a']=le.fit_transform(data['m6a'])\n",
    "data['m6b']=le.fit_transform(data['m6b'])\n",
    "data['m11']=le.fit_transform(data['m11'])\n",
    "\n",
    "data['m13']=le.fit_transform(data['m13'])\n",
    "data['m20']=le.fit_transform(data['m20'])\n",
    "data['m22']=le.fit_transform(data['m22'])\n",
    "data['q2b']=le.fit_transform(data['q2b'])\n",
    "data['q3a']=le.fit_transform(data['q3a'])\n",
    "\n",
    "data['d27']=le.fit_transform(data['d27'])\n",
    "data['d28']=le.fit_transform(data['d28'])\n",
    "data['d29']=le.fit_transform(data['d29'])\n",
    "data['method']=le.fit_transform(data['method'])\n",
    "data['method2']=le.fit_transform(data['method2'])\n",
    "\n",
    "data['q3b']=le.fit_transform(data['q3b'])\n",
    "data['q4a']=le.fit_transform(data['q4a'])\n",
    "data['q4b']=le.fit_transform(data['q4b'])\n",
    "data['q5a']=le.fit_transform(data['q5a'])\n",
    "data['q6a']=le.fit_transform(data['q6a'])\n",
    "\n",
    "data['q6b']=le.fit_transform(data['q6b'])\n",
    "data['q6c']=le.fit_transform(data['q6c'])\n",
    "data['q6d']=le.fit_transform(data['q6d'])\n",
    "data['q6e']=le.fit_transform(data['q6e'])\n",
    "data['d22a']=le.fit_transform(data['d22a'])\n",
    "\n",
    "data['d22b']=le.fit_transform(data['d22b'])\n",
    "data['d23']=le.fit_transform(data['d23'])\n",
    "data['d24']=le.fit_transform(data['d24'])\n",
    "data['d26']=le.fit_transform(data['d26'])\n",
    "\n",
    "data['q5b']=le.fit_transform(data['q5b'])\n",
    "data['q6f']=le.fit_transform(data['q6f'])\n",
    "data['q7']=le.fit_transform(data['q7'])\n",
    "data['q8']=le.fit_transform(data['q8'])\n",
    "data['q9']=le.fit_transform(data['q9'])\n",
    "\n",
    "data['q10a']=le.fit_transform(data['q10a'])\n",
    "data['q10b']=le.fit_transform(data['q10b'])\n",
    "data['q10c']=le.fit_transform(data['q10c'])\n",
    "data['q10d']=le.fit_transform(data['q10d'])\n",
    "data['q10e']=le.fit_transform(data['q10e'])\n",
    "\n",
    "data['d19a4']=le.fit_transform(data['d19a4'])\n",
    "data['d19b4']=le.fit_transform(data['d19b4'])\n",
    "data['d19c4']=le.fit_transform(data['d19c4'])\n",
    "data['d20']=le.fit_transform(data['d20'])\n",
    "data['d21']=le.fit_transform(data['d21'])\n",
    "data['dis']=le.fit_transform(data['dis'])\n",
    "data['GeoCode']=le.fit_transform(data['GeoCode'])\n",
    "\n",
    "data['q12b']=le.fit_transform(data['q12b'])\n",
    "data['q12c']=le.fit_transform(data['q12c'])\n",
    "data['q12d']=le.fit_transform(data['q12d'])\n",
    "data['q12e']=le.fit_transform(data['q12e'])\n",
    "data['q12f']=le.fit_transform(data['q12f'])\n",
    "\n",
    "data['q12g']=le.fit_transform(data['q12g'])\n",
    "data['q12h']=le.fit_transform(data['q12h'])\n",
    "data['q12i']=le.fit_transform(data['q12i'])\n",
    "data['q12j']=le.fit_transform(data['q12j'])\n",
    "data['q12k']=le.fit_transform(data['q12k'])\n",
    "\n",
    "data['d17c3']=le.fit_transform(data['d17c3'])\n",
    "data['d17a4']=le.fit_transform(data['d17a4'])\n",
    "data['d17b4']=le.fit_transform(data['d17b4'])\n",
    "data['d17c4']=le.fit_transform(data['d17c4'])\n",
    "data['d17c4']=le.fit_transform(data['d17c4'])\n",
    "data['d18']=le.fit_transform(data['d18'])\n",
    "data['d19a1']=le.fit_transform(data['d19a1'])\n",
    "\n",
    "data['q12l']=le.fit_transform(data['q12l'])\n",
    "data['q13a']=le.fit_transform(data['q13a'])\n",
    "data['q13b']=le.fit_transform(data['q13b'])\n",
    "data['q14a']=le.fit_transform(data['q14a'])\n",
    "data['q14b']=le.fit_transform(data['q14b'])\n",
    "\n",
    "data['q14c']=le.fit_transform(data['q14c'])\n",
    "data['q14d']=le.fit_transform(data['q14d'])\n",
    "data['q15a']=le.fit_transform(data['q15a'])\n",
    "data['q15b']=le.fit_transform(data['q15b'])\n",
    "data['q15b']=le.fit_transform(data['q15b'])\n",
    "\n",
    "data['q15c']=le.fit_transform(data['q15c'])\n",
    "data['d17c1']=le.fit_transform(data['d17c1'])\n",
    "data['d17a2']=le.fit_transform(data['d17a2'])\n",
    "data['d17b2']=le.fit_transform(data['d17b2'])\n",
    "data['d17c2']=le.fit_transform(data['d17c2'])\n",
    "data['d17a3']=le.fit_transform(data['d17a3'])\n",
    "data['d17b3']=le.fit_transform(data['d17b3'])\n",
    "\n",
    "data['q15d']=le.fit_transform(data['q15d'])\n",
    "data['q16']=le.fit_transform(data['q16'])\n",
    "data['q17a']=le.fit_transform(data['q17a'])\n",
    "data['q17b']=le.fit_transform(data['q17b'])\n",
    "data['q17c']=le.fit_transform(data['q17c'])\n",
    "\n",
    "data['q18a']=le.fit_transform(data['q18a'])\n",
    "data['q18b']=le.fit_transform(data['q18b'])\n",
    "data['q18c']=le.fit_transform(data['q18c'])\n",
    "data['q19a']=le.fit_transform(data['q19a'])\n",
    "data['q19b']=le.fit_transform(data['q19b'])\n",
    "\n",
    "data['d14a']=le.fit_transform(data['d14a'])\n",
    "data['d14b']=le.fit_transform(data['d14b'])\n",
    "data['d15']=le.fit_transform(data['d15'])\n",
    "data['d15']=le.fit_transform(data['d15'])\n",
    "data['d16']=le.fit_transform(data['d16'])\n",
    "data['d17a1']=le.fit_transform(data['d17a1'])\n",
    "data['d17b1']=le.fit_transform(data['d17b1'])\n",
    "\n",
    "data['q19c']=le.fit_transform(data['q19c'])\n",
    "data['q20']=le.fit_transform(data['q20'])\n",
    "data['q21']=le.fit_transform(data['q21'])\n",
    "data['q22a']=le.fit_transform(data['q22a'])\n",
    "data['q22b']=le.fit_transform(data['q22b'])\n",
    "\n",
    "data['q23']=le.fit_transform(data['q23'])\n",
    "data['q24a']=le.fit_transform(data['q24a'])\n",
    "data['q24b']=le.fit_transform(data['q24b'])\n",
    "data['q25']=le.fit_transform(data['q25'])\n",
    "data['q26']=le.fit_transform(data['q26'])\n",
    "\n",
    "\n",
    "data['d12b']=le.fit_transform(data['d12b'])\n",
    "data['d13']=le.fit_transform(data['d13'])\n",
    "data['d19b1']=le.fit_transform(data['d19b1'])\n",
    "\n",
    "\n",
    "data['d10']=le.fit_transform(data['d10'])\n",
    "data['d11']=le.fit_transform(data['d11'])\n",
    "data['d12a']=le.fit_transform(data['d12a'])\n",
    "\n",
    "data['q27a']=le.fit_transform(data['q27a'])\n",
    "data['q27b']=le.fit_transform(data['q27b'])\n",
    "data['q27c']=le.fit_transform(data['q27c'])\n",
    "data['q27d']=le.fit_transform(data['q27d'])\n",
    "data['q27e']=le.fit_transform(data['q27e'])\n",
    "\n",
    "data['q28a']=le.fit_transform(data['q28a'])\n",
    "data['q28b']=le.fit_transform(data['q28b'])\n",
    "data['q28c']=le.fit_transform(data['q28c'])\n",
    "data['q28d']=le.fit_transform(data['q28d'])\n",
    "data['q28e']=le.fit_transform(data['q28e'])\n",
    "data['q31d']=le.fit_transform(data['q31d'])\n",
    "data['q31e']=le.fit_transform(data['q31e'])\n",
    "data['q31f']=le.fit_transform(data['q31f'])\n",
    "data['q31g']=le.fit_transform(data['q31g'])\n",
    "data['q32']=le.fit_transform(data['q32'])\n",
    "\n",
    "data['q33']=le.fit_transform(data['q33'])\n",
    "data['q34a']=le.fit_transform(data['q34a'])\n",
    "data['q34b']=le.fit_transform(data['q34b'])\n",
    "data['q35']=le.fit_transform(data['q35'])\n",
    "data['Strata']=le.fit_transform(data['Strata'])\n",
    "\n",
    "data['q34c']=le.fit_transform(data['q34c'])\n",
    "data['q36a']=le.fit_transform(data['q36a'])\n",
    "data['q36b']=le.fit_transform(data['q36b'])\n",
    "data['q36c']=le.fit_transform(data['q36c'])\n",
    "data['q36d']=le.fit_transform(data['q36d'])\n",
    "\n",
    "data['q36e']=le.fit_transform(data['q36e'])\n",
    "data['q36f']=le.fit_transform(data['q36f'])\n",
    "data['q36g']=le.fit_transform(data['q36g'])\n",
    "data['q36h']=le.fit_transform(data['q36h'])\n",
    "data['q36i']=le.fit_transform(data['q36i'])\n",
    "\n",
    "data['q36j']=le.fit_transform(data['q36j'])\n",
    "data['q36k']=le.fit_transform(data['q36k'])\n",
    "data['q37a']=le.fit_transform(data['q37a'])\n",
    "data['q37b']=le.fit_transform(data['q37b'])\n",
    "data['q37c']=le.fit_transform(data['q37c'])\n",
    "\n",
    "data['q37d']=le.fit_transform(data['q37d'])\n",
    "data['q38']=le.fit_transform(data['q38'])\n",
    "data['q39']=le.fit_transform(data['q39'])\n",
    "data['q40']=le.fit_transform(data['q40'])\n",
    "data['q41']=le.fit_transform(data['q41'])\n",
    "\n",
    "data['q49']=le.fit_transform(data['q49'])\n",
    "data['q50']=le.fit_transform(data['q50'])\n",
    "data['q51']=le.fit_transform(data['q51'])\n",
    "data['q52a']=le.fit_transform(data['q52a'])\n",
    "data['q52b']=le.fit_transform(data['q52b'])\n",
    "\n",
    "data['q52c']=le.fit_transform(data['q52c'])\n",
    "data['q52d']=le.fit_transform(data['q52d'])\n",
    "data['q52e']=le.fit_transform(data['q52e'])\n",
    "data['q53']=le.fit_transform(data['q53'])\n",
    "data['Region']=le.fit_transform(data['Region'])\n",
    "\n",
    "data['q54']=le.fit_transform(data['q54'])\n",
    "data['q55']=le.fit_transform(data['q55'])\n",
    "data['q56']=le.fit_transform(data['q56'])\n",
    "data['q57']=le.fit_transform(data['q57'])\n",
    "data['q58a']=le.fit_transform(data['q58a'])\n",
    "\n",
    "data['q58b']=le.fit_transform(data['q58b'])\n",
    "data['q58c']=le.fit_transform(data['q58c'])\n",
    "data['q58d']=le.fit_transform(data['q58d'])\n",
    "data['q59']=le.fit_transform(data['q59'])\n",
    "data['q60']=le.fit_transform(data['q60'])\n",
    "\n",
    "data['q61']=le.fit_transform(data['q61'])\n",
    "data['q63a']=le.fit_transform(data['q63a'])\n",
    "data['q63b']=le.fit_transform(data['q63b'])\n",
    "data['q63c']=le.fit_transform(data['q63c'])\n",
    "\n",
    "data['q63d']=le.fit_transform(data['q63d'])\n",
    "data['q64a']=le.fit_transform(data['q64a'])\n",
    "data['q64b']=le.fit_transform(data['q64b'])\n",
    "data['q64c']=le.fit_transform(data['q64c'])\n",
    "\n",
    "data['q67a']=le.fit_transform(data['q67a'])\n",
    "data['q66']=le.fit_transform(data['q66'])\n",
    "data['q65e']=le.fit_transform(data['q65e'])\n",
    "data['q65d']=le.fit_transform(data['q65d'])\n",
    "\n",
    "data['q65c']=le.fit_transform(data['q65c'])\n",
    "data['q65b']=le.fit_transform(data['q65b'])\n",
    "data['q65a']=le.fit_transform(data['q65a'])\n",
    "data['q64e']=le.fit_transform(data['q64e'])\n",
    "\n",
    "data['q64d']=le.fit_transform(data['q64d'])\n",
    "data['q67b']=le.fit_transform(data['q67b'])\n",
    "data['q68']=le.fit_transform(data['q68'])\n",
    "data['q69']=le.fit_transform(data['q69'])\n",
    "\n",
    "data['q70a']=le.fit_transform(data['q70a'])\n",
    "data['q70b']=le.fit_transform(data['q70b'])\n",
    "data['q70c']=le.fit_transform(data['q70c'])\n",
    "data['q71a']=le.fit_transform(data['q71a'])\n",
    "\n",
    "data['q71b']=le.fit_transform(data['q71b'])\n",
    "data['q71c']=le.fit_transform(data['q71c'])\n",
    "data['q71d']=le.fit_transform(data['q71d'])\n",
    "data['q71e']=le.fit_transform(data['q71e'])\n",
    "\n",
    "data['q71f']=le.fit_transform(data['q71f'])\n",
    "data['q72']=le.fit_transform(data['q72'])\n",
    "data['q73a']=le.fit_transform(data['q73a'])\n",
    "data['q73b']=le.fit_transform(data['q73b'])\n",
    "\n",
    "data['q73c']=le.fit_transform(data['q73c'])\n",
    "data['q73d']=le.fit_transform(data['q73d'])\n",
    "data['q73e']=le.fit_transform(data['q73e'])\n",
    "data['q74']=le.fit_transform(data['q74'])\n",
    "\n",
    "data['q75']=le.fit_transform(data['q75'])\n",
    "data['q76']=le.fit_transform(data['q76'])\n",
    "\n",
    "data['d1']=le.fit_transform(data['d1'])\n",
    "data['d3']=le.fit_transform(data['d3'])\n",
    "data['d4']=le.fit_transform(data['d4'])\n",
    "data['d5']=le.fit_transform(data['d5'])\n",
    "\n",
    "data['q79']=le.fit_transform(data['q79'])\n",
    "\n",
    "data['q10f']=le.fit_transform(data['q10f'])\n",
    "data['q10g']=le.fit_transform(data['q10g'])\n",
    "data['q11a']=le.fit_transform(data['q11a'])\n",
    "data['q11b']=le.fit_transform(data['q11b'])\n",
    "data['q11c']=le.fit_transform(data['q11c'])\n",
    "\n",
    "data['q11d']=le.fit_transform(data['q11d'])\n",
    "data['q11e']=le.fit_transform(data['q11e'])\n",
    "data['q11f']=le.fit_transform(data['q11f'])\n",
    "data['q11g']=le.fit_transform(data['q11g'])\n",
    "data['q12a']=le.fit_transform(data['q12a'])\n",
    "\n",
    "data['q28f']=le.fit_transform(data['q28f'])\n",
    "data['q28g']=le.fit_transform(data['q28g'])\n",
    "data['q28h']=le.fit_transform(data['q28h'])\n",
    "data['q28i']=le.fit_transform(data['q28i'])\n",
    "data['q28j']=le.fit_transform(data['q28j'])\n",
    "\n",
    "data['q29']=le.fit_transform(data['q29'])\n",
    "data['q30']=le.fit_transform(data['q30'])\n",
    "data['q31a']=le.fit_transform(data['q31a'])\n",
    "data['q31b']=le.fit_transform(data['q31b'])\n",
    "data['q31c']=le.fit_transform(data['q31c'])\n",
    "\n",
    "\n",
    "data['d19c1']=le.fit_transform(data['d19c1'])\n",
    "data['d19a2']=le.fit_transform(data['d19a2'])\n",
    "data['d19b2']=le.fit_transform(data['d19b2'])\n",
    "data['d19c2']=le.fit_transform(data['d19c2'])\n",
    "data['d19a3']=le.fit_transform(data['d19a3'])\n",
    "\n",
    "data['d19b3']=le.fit_transform(data['d19b3'])\n",
    "data['d19c3']=le.fit_transform(data['d19c3'])\n",
    "data['d8']=le.fit_transform(data['d8'])\n",
    "data['d7']=le.fit_transform(data['d7'])\n",
    "data['q62_97']=le.fit_transform(data['q62_97'])\n",
    "data['eoi']=le.fit_transform(data['eoi'])\n"
   ]
  },
  {
   "cell_type": "code",
   "execution_count": 43,
   "metadata": {},
   "outputs": [],
   "source": [
    "\n",
    "\n",
    "import pandas as pd\n",
    "import numpy as np\n",
    "from sklearn.feature_selection import SelectKBest\n",
    "from sklearn.feature_selection import chi2\n",
    "\n"
   ]
  },
  {
   "cell_type": "code",
   "execution_count": 60,
   "metadata": {},
   "outputs": [],
   "source": [
    "#apply SelectKBest class to extract top 10 best features\n",
    "bestfeatures = SelectKBest(score_func=chi2, k=10)\n",
    "fit = bestfeatures.fit(X,y)"
   ]
  },
  {
   "cell_type": "code",
   "execution_count": 61,
   "metadata": {},
   "outputs": [],
   "source": [
    "dfscores = pd.DataFrame(fit.scores_)\n",
    "dfcolumns = pd.DataFrame(X.columns)"
   ]
  },
  {
   "cell_type": "code",
   "execution_count": 62,
   "metadata": {},
   "outputs": [],
   "source": [
    "#concat two dataframes for better visualization \n",
    "featureScores = pd.concat([dfcolumns,dfscores],axis=1)\n",
    "featureScores.columns = ['Specs','Score']  #naming the dataframe columns"
   ]
  },
  {
   "cell_type": "code",
   "execution_count": 63,
   "metadata": {},
   "outputs": [
    {
     "data": {
      "text/html": [
       "<div>\n",
       "<style scoped>\n",
       "    .dataframe tbody tr th:only-of-type {\n",
       "        vertical-align: middle;\n",
       "    }\n",
       "\n",
       "    .dataframe tbody tr th {\n",
       "        vertical-align: top;\n",
       "    }\n",
       "\n",
       "    .dataframe thead th {\n",
       "        text-align: right;\n",
       "    }\n",
       "</style>\n",
       "<table border=\"1\" class=\"dataframe\">\n",
       "  <thead>\n",
       "    <tr style=\"text-align: right;\">\n",
       "      <th></th>\n",
       "      <th>Specs</th>\n",
       "      <th>Score</th>\n",
       "    </tr>\n",
       "  </thead>\n",
       "  <tbody>\n",
       "    <tr>\n",
       "      <th>0</th>\n",
       "      <td>m1</td>\n",
       "      <td>227188.846681</td>\n",
       "    </tr>\n",
       "    <tr>\n",
       "      <th>1</th>\n",
       "      <td>i1</td>\n",
       "      <td>5.987935</td>\n",
       "    </tr>\n",
       "    <tr>\n",
       "      <th>2</th>\n",
       "      <td>i2</td>\n",
       "      <td>15.164757</td>\n",
       "    </tr>\n",
       "    <tr>\n",
       "      <th>3</th>\n",
       "      <td>m2</td>\n",
       "      <td>0.000000</td>\n",
       "    </tr>\n",
       "    <tr>\n",
       "      <th>4</th>\n",
       "      <td>m3</td>\n",
       "      <td>0.000000</td>\n",
       "    </tr>\n",
       "    <tr>\n",
       "      <th>...</th>\n",
       "      <td>...</td>\n",
       "      <td>...</td>\n",
       "    </tr>\n",
       "    <tr>\n",
       "      <th>265</th>\n",
       "      <td>eoi</td>\n",
       "      <td>21.448820</td>\n",
       "    </tr>\n",
       "    <tr>\n",
       "      <th>266</th>\n",
       "      <td>dis</td>\n",
       "      <td>609.972646</td>\n",
       "    </tr>\n",
       "    <tr>\n",
       "      <th>267</th>\n",
       "      <td>GeoCode</td>\n",
       "      <td>226.494275</td>\n",
       "    </tr>\n",
       "    <tr>\n",
       "      <th>268</th>\n",
       "      <td>Strata</td>\n",
       "      <td>107.658464</td>\n",
       "    </tr>\n",
       "    <tr>\n",
       "      <th>269</th>\n",
       "      <td>psu</td>\n",
       "      <td>26081.154870</td>\n",
       "    </tr>\n",
       "  </tbody>\n",
       "</table>\n",
       "<p>270 rows × 2 columns</p>\n",
       "</div>"
      ],
      "text/plain": [
       "       Specs          Score\n",
       "0         m1  227188.846681\n",
       "1         i1       5.987935\n",
       "2         i2      15.164757\n",
       "3         m2       0.000000\n",
       "4         m3       0.000000\n",
       "..       ...            ...\n",
       "265      eoi      21.448820\n",
       "266      dis     609.972646\n",
       "267  GeoCode     226.494275\n",
       "268   Strata     107.658464\n",
       "269      psu   26081.154870\n",
       "\n",
       "[270 rows x 2 columns]"
      ]
     },
     "execution_count": 63,
     "metadata": {},
     "output_type": "execute_result"
    }
   ],
   "source": [
    "featureScores"
   ]
  },
  {
   "cell_type": "code",
   "execution_count": 64,
   "metadata": {},
   "outputs": [
    {
     "name": "stdout",
     "output_type": "stream",
     "text": [
      "    Specs         Score\n",
      "14    m12  7.631694e+07\n",
      "262   d30  3.102065e+05\n",
      "0      m1  2.271888e+05\n",
      "269   psu  2.608115e+04\n",
      "16    m14  9.191710e+03\n",
      "252  d22b  5.517204e+03\n",
      "250   d21  3.817004e+03\n",
      "220  d14a  2.834728e+03\n",
      "251  d22a  2.075458e+03\n",
      "253   d23  1.789717e+03\n"
     ]
    }
   ],
   "source": [
    "\n",
    "\n",
    "print(featureScores.nlargest(10,'Score'))  #print 10 best features\n",
    "\n"
   ]
  },
  {
   "cell_type": "code",
   "execution_count": 65,
   "metadata": {},
   "outputs": [
    {
     "name": "stderr",
     "output_type": "stream",
     "text": [
      "<ipython-input-65-d74ef21df97e>:4: DataConversionWarning: A column-vector y was passed when a 1d array was expected. Please change the shape of y to (n_samples,), for example using ravel().\n",
      "  model.fit(X,y)\n"
     ]
    },
    {
     "name": "stdout",
     "output_type": "stream",
     "text": [
      "[2.73049339e-03 1.69786618e-03 1.76377500e-03 0.00000000e+00\n",
      " 0.00000000e+00 1.72524402e-03 1.72289373e-03 3.58343114e-03\n",
      " 1.98695456e-03 1.61993847e-03 0.00000000e+00 1.87873883e-04\n",
      " 1.82678930e-03 1.60193812e-03 2.12740573e-03 8.66758505e-04\n",
      " 2.32747875e-03 1.69077058e-03 1.70630401e-03 1.82179847e-03\n",
      " 1.51577842e-04 1.89474627e-03 1.22120599e-03 1.56354286e-03\n",
      " 1.16424758e-03 1.21871915e-03 1.80637674e-03 1.55240909e-03\n",
      " 1.67103723e-03 1.44912541e-03 1.65738203e-03 1.77088297e-03\n",
      " 1.88553345e-03 1.48984024e-03 1.24779595e-03 1.78444312e-03\n",
      " 3.31683707e-03 3.36479860e-03 2.76869885e-03 1.91835935e-03\n",
      " 1.71900646e-03 1.72482449e-03 1.51617371e-03 1.72803630e-03\n",
      " 1.71186197e-03 1.61485227e-03 1.84785280e-03 1.99166504e-03\n",
      " 2.29047381e-03 1.99050646e-03 1.58510392e-03 2.13937229e-03\n",
      " 1.68140566e-03 1.90159648e-03 1.29808088e-03 1.81043888e-03\n",
      " 1.54293369e-03 1.37939975e-03 1.30081418e-03 9.73959495e-04\n",
      " 9.60953500e-04 1.17506153e-03 1.09060469e-03 1.24198725e-03\n",
      " 1.43673772e-03 9.55040615e-04 1.02365767e-03 5.37643457e-04\n",
      " 1.26766049e-03 1.78691071e-03 1.67526556e-03 1.25949493e-03\n",
      " 6.94160760e-04 9.87704872e-04 1.03041011e-03 1.31133962e-03\n",
      " 7.85118536e-04 1.04511625e-03 9.92997346e-04 9.99358147e-04\n",
      " 1.23331924e-03 1.22419641e-03 1.46378615e-03 1.82061287e-03\n",
      " 1.37808352e-03 1.55428773e-03 1.57526006e-03 1.46966846e-03\n",
      " 1.54463480e-03 1.93842268e-03 9.30427504e-04 1.04275895e-03\n",
      " 9.05508422e-04 9.45842229e-04 7.82879242e-04 8.92688426e-04\n",
      " 1.56992376e-03 1.70601047e-03 1.54900805e-03 1.41893014e-03\n",
      " 1.51937270e-03 1.47333424e-03 1.22167431e-03 1.58945675e-03\n",
      " 1.63751788e-03 1.51324940e-03 1.68350200e-03 1.78331075e-03\n",
      " 1.58581395e-03 1.73388679e-03 1.46609328e-03 1.91739914e-03\n",
      " 1.76145197e-03 2.28090319e-04 1.58393149e-03 1.31582458e-03\n",
      " 1.47120906e-03 1.58314105e-03 1.59159257e-03 1.49164535e-03\n",
      " 1.70869607e-03 1.84455605e-03 1.32206200e-03 1.65807220e-03\n",
      " 1.62834514e-03 1.30419984e-03 1.47956358e-03 1.48038387e-03\n",
      " 1.46768862e-03 1.57082185e-03 1.66979059e-03 1.49709236e-03\n",
      " 1.64524391e-03 1.59941440e-03 1.46869259e-03 1.66789181e-03\n",
      " 1.48019133e-03 1.67633336e-03 1.68216571e-03 1.39040321e-03\n",
      " 1.37719057e-03 1.48263866e-03 1.72703894e-03 1.45719037e-03\n",
      " 1.44418864e-03 1.42437501e-03 1.19209265e-03 1.40867457e-03\n",
      " 1.96415737e-03 1.20745349e-03 1.27539912e-03 1.22804160e-03\n",
      " 1.27130224e-03 1.19470673e-03 1.19751294e-03 2.25304154e-04\n",
      " 1.50930136e-03 1.26496957e-03 1.72969493e-03 1.55001722e-03\n",
      " 1.69154159e-03 1.81764210e-03 1.57037585e-03 1.57008380e-03\n",
      " 1.06036452e-03 8.80600898e-04 1.16330777e-03 0.00000000e+00\n",
      " 5.77154134e-04 7.44190151e-04 6.25097586e-04 7.46630805e-04\n",
      " 7.65125445e-04 7.52462177e-04 8.67554539e-04 8.49780865e-04\n",
      " 7.42916769e-04 7.84339706e-04 8.46856527e-04 7.61540689e-04\n",
      " 7.82527251e-04 6.94863627e-04 1.54227534e-03 1.63104145e-03\n",
      " 1.89173700e-03 1.52580558e-03 1.39564183e-03 1.29693258e-03\n",
      " 1.68407289e-03 1.33393771e-03 1.64962289e-03 1.40508091e-03\n",
      " 1.32572386e-03 1.43161566e-03 1.45728660e-03 1.48444867e-03\n",
      " 4.75944856e-04 1.67923348e-03 1.53984171e-03 1.18596871e-03\n",
      " 1.45072533e-03 1.49292812e-03 2.01239418e-03 1.52900588e-03\n",
      " 9.85011072e-04 1.55037074e-03 1.62076389e-03 1.31106624e-03\n",
      " 1.15024876e-02 3.36404731e-03 8.58236409e-03 2.08926050e-03\n",
      " 1.53618284e-03 7.56057682e-03 2.90381899e-03 7.93524304e-03\n",
      " 1.66280952e-03 1.55672595e-03 1.83814653e-03 1.53965716e-03\n",
      " 2.36705226e-03 1.12326598e-03 1.21783589e-03 8.29080198e-04\n",
      " 8.52828944e-04 9.51114320e-04 8.74516232e-04 6.58869866e-04\n",
      " 9.11535461e-04 7.90548395e-04 7.62586795e-04 6.48690753e-04\n",
      " 7.73473955e-04 7.01232085e-04 6.31200101e-04 7.89146422e-04\n",
      " 6.84266010e-04 7.88242001e-04 8.85705349e-04 1.03768582e-03\n",
      " 8.01159527e-04 7.87076107e-04 5.75718505e-04 9.03718534e-04\n",
      " 7.95646692e-04 7.23609230e-04 7.79708997e-04 7.64042194e-04\n",
      " 6.69750172e-04 2.89905004e-03 2.12652313e-01 8.44334252e-02\n",
      " 1.02140110e-01 2.00115598e-01 2.76587976e-03 1.65896537e-03\n",
      " 1.76461690e-03 1.68063759e-03 0.00000000e+00 0.00000000e+00\n",
      " 1.83294978e-03 1.64351099e-03 1.39837739e-03 5.45762826e-04\n",
      " 1.16208865e-03 1.88862048e-03 1.62323034e-03 2.84560043e-03\n",
      " 1.82532534e-03 2.42841593e-03]\n"
     ]
    }
   ],
   "source": [
    "\n",
    "\n",
    "from sklearn.ensemble import ExtraTreesClassifier\n",
    "import matplotlib.pyplot as plt\n",
    "model = ExtraTreesClassifier()\n",
    "model.fit(X,y)\n",
    "\n",
    "print(model.feature_importances_) #use inbuilt class feature_importances of tree based classifiers\n",
    "\n"
   ]
  },
  {
   "cell_type": "code",
   "execution_count": 66,
   "metadata": {},
   "outputs": [
    {
     "data": {
      "image/png": "[encoded data removed]",
      "text/plain": [
       "<Figure size 432x288 with 1 Axes>"
      ]
     },
     "metadata": {
      "needs_background": "light"
     },
     "output_type": "display_data"
    }
   ],
   "source": [
    "\n",
    "\n",
    "#plot graph of feature importances for better visualization\n",
    "feat_importances = pd.Series(model.feature_importances_, index=X.columns)\n",
    "feat_importances.nlargest(15).plot(kind='barh')\n",
    "plt.show()\n",
    "\n"
   ]
  },
  {
   "cell_type": "code",
   "execution_count": 19,
   "metadata": {},
   "outputs": [
    {
     "data": {
      "image/png": "[encoded data removed]",
      "text/plain": [
       "<Figure size 360x288 with 1 Axes>"
      ]
     },
     "metadata": {
      "needs_background": "light"
     },
     "output_type": "display_data"
    }
   ],
   "source": [
    "\n",
    "\n",
    "import matplotlib.pyplot as plt\n",
    "data = pd.read_csv(\"/home/mirwais/Desktop/PhD Docs/Papers/Dataset/Dataset_AsiaF/Survey of The Afghan Peoples.csv\")\n",
    "fig_dims = (5, 4)\n",
    "fig, ax = plt.subplots(figsize=fig_dims)\n",
    "plt.title(\"1. Language of questionnaire (written)\",size=12,weight=\"bold\")\n",
    "\n",
    "sns.countplot(x='m22', hue='q1', data = data, palette=\"colorblind\", ax = ax,  \n",
    "              edgecolor=sns.color_palette(\"dark\", n_colors = 1))\n",
    "plt.show()\n",
    "\n"
   ]
  },
  {
   "cell_type": "code",
   "execution_count": 20,
   "metadata": {},
   "outputs": [
    {
     "data": {
      "image/png": "[encoded data removed]",
      "text/plain": [
       "<Figure size 720x288 with 1 Axes>"
      ]
     },
     "metadata": {
      "needs_background": "light"
     },
     "output_type": "display_data"
    }
   ],
   "source": [
    "\n",
    "\n",
    "import matplotlib.pyplot as plt\n",
    "data = pd.read_csv(\"/home/mirwais/Desktop/PhD Docs/Papers/Dataset/Dataset_AsiaF/Survey of The Afghan Peoples.csv\")\n",
    "fig_dims = (10, 4)\n",
    "fig, ax = plt.subplots(figsize=fig_dims)\n",
    "plt.title(\"2. Language of Interview (spoken)\",size=15,weight=\"bold\")\n",
    "\n",
    "sns.countplot(x='m20', hue='q1', data = data, palette=\"colorblind\", ax = ax,  \n",
    "              edgecolor=sns.color_palette(\"dark\", n_colors = 1))\n",
    "plt.show()\n",
    "\n"
   ]
  },
  {
   "cell_type": "code",
   "execution_count": 21,
   "metadata": {},
   "outputs": [
    {
     "data": {
      "image/png": "[encoded data removed]",
      "text/plain": [
       "<Figure size 864x288 with 1 Axes>"
      ]
     },
     "metadata": {
      "needs_background": "light"
     },
     "output_type": "display_data"
    }
   ],
   "source": [
    "\n",
    "\n",
    "import matplotlib.pyplot as plt\n",
    "data = pd.read_csv(\"/home/mirwais/Desktop/PhD Docs/Papers/Dataset/Dataset_AsiaF/Survey of The Afghan Peoples.csv\")\n",
    "fig_dims = (12, 4)\n",
    "fig, ax = plt.subplots(figsize=fig_dims)\n",
    "plt.title(\"3. Which ethnic group do you belong to?\",size=15,weight=\"bold\")\n",
    "\n",
    "sns.countplot(x='d11', hue='q1', data = data, palette=\"colorblind\", ax = ax,  \n",
    "              edgecolor=sns.color_palette(\"dark\", n_colors = 1))\n",
    "plt.show()\n",
    "\n"
   ]
  },
  {
   "cell_type": "code",
   "execution_count": 22,
   "metadata": {},
   "outputs": [
    {
     "data": {
      "image/png": "[encoded data removed]",
      "text/plain": [
       "<Figure size 720x288 with 1 Axes>"
      ]
     },
     "metadata": {
      "needs_background": "light"
     },
     "output_type": "display_data"
    }
   ],
   "source": [
    "import matplotlib.pyplot as plt\n",
    "data = pd.read_csv(\"/home/mirwais/Desktop/PhD Docs/Papers/Dataset/Dataset_AsiaF/Survey of The Afghan Peoples.csv\")\n",
    "fig_dims = (10, 4)\n",
    "fig, ax = plt.subplots(figsize=fig_dims)\n",
    "plt.title(\"4. Respondents by Regions\",size=15,weight=\"bold\")\n",
    "\n",
    "sns.countplot(x='m4', hue='q1', data = data, palette=\"colorblind\", ax = ax,  \n",
    "              edgecolor=sns.color_palette(\"dark\", n_colors = 1))\n",
    "plt.show()"
   ]
  },
  {
   "cell_type": "code",
   "execution_count": 23,
   "metadata": {},
   "outputs": [
    {
     "data": {
      "image/png": "[encoded data removed]",
      "text/plain": [
       "<Figure size 1440x288 with 1 Axes>"
      ]
     },
     "metadata": {
      "needs_background": "light"
     },
     "output_type": "display_data"
    }
   ],
   "source": [
    "\n",
    "\n",
    "import matplotlib.pyplot as plt\n",
    "data = pd.read_csv(\"/home/mirwais/Desktop/PhD Docs/Papers/Dataset/Dataset_AsiaF/Survey of The Afghan Peoples.csv\")\n",
    "fig_dims = (20, 4)\n",
    "fig, ax = plt.subplots(figsize=fig_dims)\n",
    "plt.title(\"5. How many people live here in this household?\",size=20,weight=\"bold\")\n",
    "\n",
    "sns.countplot(x='d13', hue='q1', data = data, palette=\"colorblind\", ax = ax,  \n",
    "              edgecolor=sns.color_palette(\"dark\", n_colors = 1))\n",
    "plt.show()\n",
    "\n"
   ]
  },
  {
   "cell_type": "code",
   "execution_count": 24,
   "metadata": {},
   "outputs": [
    {
     "data": {
      "image/png": "[encoded data removed]",
      "text/plain": [
       "<Figure size 1440x288 with 1 Axes>"
      ]
     },
     "metadata": {
      "needs_background": "light"
     },
     "output_type": "display_data"
    }
   ],
   "source": [
    "\n",
    "\n",
    "import matplotlib.pyplot as plt\n",
    "data = pd.read_csv(\"/home/mirwais/Desktop/PhD Docs/Papers/Dataset/Dataset_AsiaF/Survey of The Afghan Peoples.csv\")\n",
    "fig_dims = (20, 4)\n",
    "fig, ax = plt.subplots(figsize=fig_dims)\n",
    "plt.title(\"6. which one of these women is dressed most appropriately for public places?\",size=20,weight=\"bold\")\n",
    "\n",
    "sns.countplot(x='q74', hue='q1', data = data, palette=\"colorblind\", ax = ax,  \n",
    "              edgecolor=sns.color_palette(\"dark\", n_colors = 1))\n",
    "plt.show()\n",
    "\n"
   ]
  },
  {
   "cell_type": "code",
   "execution_count": 11,
   "metadata": {},
   "outputs": [],
   "source": [
    "\n",
    "\n",
    "from sklearn.model_selection import train_test_split\n",
    "\n"
   ]
  },
  {
   "cell_type": "code",
   "execution_count": 13,
   "metadata": {},
   "outputs": [],
   "source": [
    "#X_train, X_test, y_train, y_test = train_test_split(data[['d24']],data.q1,train_size=0.75)\n",
    "\n",
    "X_train, X_test, y_train, y_test = train_test_split(X, y, train_size=0.75)"
   ]
  },
  {
   "cell_type": "code",
   "execution_count": 14,
   "metadata": {},
   "outputs": [],
   "source": [
    "\n",
    "\n",
    "from sklearn.linear_model import LogisticRegression\n",
    "model = LogisticRegression()\n",
    "\n"
   ]
  },
  {
   "cell_type": "code",
   "execution_count": 15,
   "metadata": {},
   "outputs": [
    {
     "name": "stderr",
     "output_type": "stream",
     "text": [
      "/home/mirwais/anaconda3/lib/python3.8/site-packages/sklearn/utils/validation.py:72: DataConversionWarning: A column-vector y was passed when a 1d array was expected. Please change the shape of y to (n_samples, ), for example using ravel().\n",
      "  return f(**kwargs)\n",
      "/home/mirwais/anaconda3/lib/python3.8/site-packages/sklearn/linear_model/_logistic.py:762: ConvergenceWarning: lbfgs failed to converge (status=1):\n",
      "STOP: TOTAL NO. of ITERATIONS REACHED LIMIT.\n",
      "\n",
      "Increase the number of iterations (max_iter) or scale the data as shown in:\n",
      "    https://scikit-learn.org/stable/modules/preprocessing.html\n",
      "Please also refer to the documentation for alternative solver options:\n",
      "    https://scikit-learn.org/stable/modules/linear_model.html#logistic-regression\n",
      "  n_iter_i = _check_optimize_result(\n"
     ]
    },
    {
     "data": {
      "text/plain": [
       "LogisticRegression()"
      ]
     },
     "execution_count": 15,
     "metadata": {},
     "output_type": "execute_result"
    }
   ],
   "source": [
    "model.fit(X_train, y_train)"
   ]
  },
  {
   "cell_type": "code",
   "execution_count": 16,
   "metadata": {},
   "outputs": [
    {
     "data": {
      "text/plain": [
       "array([1, 1, 0, ..., 0, 0, 0])"
      ]
     },
     "execution_count": 16,
     "metadata": {},
     "output_type": "execute_result"
    }
   ],
   "source": [
    "model.predict(X_test)"
   ]
  },
  {
   "cell_type": "code",
   "execution_count": 17,
   "metadata": {},
   "outputs": [],
   "source": [
    "y_predicted = model.predict(X_test)"
   ]
  },
  {
   "cell_type": "code",
   "execution_count": 18,
   "metadata": {},
   "outputs": [
    {
     "data": {
      "text/plain": [
       "array([[0.10654297, 0.89345703],\n",
       "       [0.36220785, 0.63779215],\n",
       "       [0.9891156 , 0.0108844 ],\n",
       "       ...,\n",
       "       [0.61559305, 0.38440695],\n",
       "       [0.70647086, 0.29352914],\n",
       "       [0.77415519, 0.22584481]])"
      ]
     },
     "execution_count": 18,
     "metadata": {},
     "output_type": "execute_result"
    }
   ],
   "source": [
    "\n",
    "\n",
    "model.predict_proba(X_test)\n",
    "\n"
   ]
  },
  {
   "cell_type": "code",
   "execution_count": 19,
   "metadata": {},
   "outputs": [
    {
     "data": {
      "text/plain": [
       "0.8044464609800362"
      ]
     },
     "execution_count": 19,
     "metadata": {},
     "output_type": "execute_result"
    }
   ],
   "source": [
    "model.score(X_test,y_test)"
   ]
  },
  {
   "cell_type": "code",
   "execution_count": 74,
   "metadata": {},
   "outputs": [
    {
     "data": {
      "text/plain": [
       "array([[-0.23694666]])"
      ]
     },
     "execution_count": 74,
     "metadata": {},
     "output_type": "execute_result"
    }
   ],
   "source": [
    "model.coef_"
   ]
  },
  {
   "cell_type": "code",
   "execution_count": 75,
   "metadata": {},
   "outputs": [
    {
     "data": {
      "text/plain": [
       "array([0.65444264])"
      ]
     },
     "execution_count": 75,
     "metadata": {},
     "output_type": "execute_result"
    }
   ],
   "source": [
    "model.intercept_\n"
   ]
  },
  {
   "cell_type": "code",
   "execution_count": 76,
   "metadata": {},
   "outputs": [],
   "source": [
    "\n",
    "\n",
    "import math\n",
    "def sigmoid(x):\n",
    "  return 1 / (1 + math.exp(-x))\n",
    "\n"
   ]
  },
  {
   "cell_type": "code",
   "execution_count": 40,
   "metadata": {},
   "outputs": [],
   "source": [
    "\n",
    "\n",
    "def prediction_function(m22):\n",
    "    z = 0.042 * m22 - 1.53 # 0.04150133 ~ 0.042 and -1.52726963 ~ -1.53\n",
    "    y = sigmoid(z)\n",
    "    return y\n",
    "\n"
   ]
  },
  {
   "cell_type": "code",
   "execution_count": 41,
   "metadata": {},
   "outputs": [
    {
     "data": {
      "text/plain": [
       "0.24012396450912174"
      ]
     },
     "execution_count": 41,
     "metadata": {},
     "output_type": "execute_result"
    }
   ],
   "source": [
    "m22 = 9\n",
    "prediction_function(m22)"
   ]
  },
  {
   "cell_type": "code",
   "execution_count": null,
   "metadata": {},
   "outputs": [],
   "source": []
  }
 ],
 "metadata": {
  "kernelspec": {
   "display_name": "Python 3",
   "language": "python",
   "name": "python3"
  },
  "language_info": {
   "codemirror_mode": {
    "name": "ipython",
    "version": 3
   },
   "file_extension": ".py",
   "mimetype": "text/x-python",
   "name": "python",
   "nbconvert_exporter": "python",
   "pygments_lexer": "ipython3",
   "version": "3.8.5"
  }
 },
 "nbformat": 4,
 "nbformat_minor": 4
}
